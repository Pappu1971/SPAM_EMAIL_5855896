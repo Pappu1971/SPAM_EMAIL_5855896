{
 "cells": [
  {
   "cell_type": "markdown",
   "id": "22b8637e",
   "metadata": {},
   "source": [
    "# 📧 Self-Learning LSTM Spam Email Detector\n",
    "\n",
    "Welcome to the **Self-Learning LSTM Spam Detector** project!\n",
    "\n",
    "This notebook demonstrates a modern, interactive spam detection system inspired by Gmail's real-world spam filtering.  \n",
    "You’ll learn how to build, train, evaluate, and continually improve a deep learning model for classifying emails as \"spam\" or \"ham\" (not spam).\n",
    "\n",
    "---\n",
    "\n",
    "## **Project Highlights**\n",
    "\n",
    "- **End-to-End Workflow:** Data loading, preprocessing, modeling, evaluation, and live feedback loop.\n",
    "- **Deep Learning Core:** Uses advanced sequence models (Bidirectional LSTM & GRU) for robust spam detection.\n",
    "- **Self-Learning:** The system can update itself in real time with new user feedback, simulating an online learning scenario.\n",
    "- **Evaluation Metrics:** Shows live accuracy, F1-score, and confusion matrix to track model performance.\n",
    "- **Model Management:** Includes code to save, reload, and update the model easily.\n",
    "- **Interactive Demo:** Supports both command-line and web app (Streamlit) user interfaces.\n",
    "\n",
    "---\n",
    "\n",
    "## **Methodology Overview**\n",
    "\n",
    "1. **Data Preparation:**  \n",
    "   Emails are split into sender, subject, and message. Labels identify spam or ham.\n",
    "\n",
    "2. **Preprocessing:**  \n",
    "   All text is tokenized and padded to suit deep learning input requirements.\n",
    "\n",
    "3. **Model Training:**  \n",
    "   A Bidirectional LSTM/GRU model is trained to recognize spam patterns in text.\n",
    "\n",
    "4. **Evaluation:**  \n",
    "   The notebook provides advanced evaluation with confusion matrix and classification reports.\n",
    "\n",
    "5. **Self-Learning Feedback Loop:**  \n",
    "   You can interactively correct predictions; each correction retrains and improves the model instantly.\n",
    "\n",
    "6. **Web App Integration:**  \n",
    "   Includes Streamlit code for a no-code, interactive web interface.\n",
    "\n",
    "---\n",
    "\n",
    "## **How to Use This Notebook**\n",
    "\n",
    "- Run each cell in sequence after setting up the required Python environment.\n",
    "- For hands-on demo, try out the prediction and self-learning cells.\n",
    "- For an interactive web demo, use the included Streamlit app code.\n",
    "\n",
    "---\n",
    "\n",
    "**Let’s build a smarter, self-improving spam filter!**"
   ]
  },
  {
   "cell_type": "markdown",
   "id": "b7ecaa89-1a99-43d6-8ded-76d55e3c3f10",
   "metadata": {},
   "source": [
    "# Importing Libraries\n",
    "This cell loads all the libraries needed for the project:\n",
    "- **pandas, numpy:** Data handling and numerical operations.\n",
    "- **tensorflow / keras:** Building, training, saving, and loading the LSTM/GRU deep learning model.\n",
    "- **scikit-learn:** Splitting data into train/test sets and evaluating model performance.\n",
    "- **seaborn, matplotlib:** Creating visual charts (like the confusion matrix).\n",
    "- **os:** Handling file and environment operations.\n"
   ]
  },
  {
   "cell_type": "code",
   "execution_count": 1,
   "id": "453b653c",
   "metadata": {
    "scrolled": true
   },
   "outputs": [
    {
     "name": "stderr",
     "output_type": "stream",
     "text": [
      "2025-07-16 05:31:02.734542: I external/local_xla/xla/tsl/cuda/cudart_stub.cc:32] Could not find cuda drivers on your machine, GPU will not be used.\n",
      "2025-07-16 05:31:02.741610: I external/local_xla/xla/tsl/cuda/cudart_stub.cc:32] Could not find cuda drivers on your machine, GPU will not be used.\n",
      "2025-07-16 05:31:02.761828: E external/local_xla/xla/stream_executor/cuda/cuda_fft.cc:467] Unable to register cuFFT factory: Attempting to register factory for plugin cuFFT when one has already been registered\n",
      "WARNING: All log messages before absl::InitializeLog() is called are written to STDERR\n",
      "E0000 00:00:1752636662.795372 1660154 cuda_dnn.cc:8579] Unable to register cuDNN factory: Attempting to register factory for plugin cuDNN when one has already been registered\n",
      "E0000 00:00:1752636662.805697 1660154 cuda_blas.cc:1407] Unable to register cuBLAS factory: Attempting to register factory for plugin cuBLAS when one has already been registered\n",
      "W0000 00:00:1752636662.832070 1660154 computation_placer.cc:177] computation placer already registered. Please check linkage and avoid linking the same target more than once.\n",
      "W0000 00:00:1752636662.832096 1660154 computation_placer.cc:177] computation placer already registered. Please check linkage and avoid linking the same target more than once.\n",
      "W0000 00:00:1752636662.832100 1660154 computation_placer.cc:177] computation placer already registered. Please check linkage and avoid linking the same target more than once.\n",
      "W0000 00:00:1752636662.832103 1660154 computation_placer.cc:177] computation placer already registered. Please check linkage and avoid linking the same target more than once.\n",
      "2025-07-16 05:31:02.841066: I tensorflow/core/platform/cpu_feature_guard.cc:210] This TensorFlow binary is optimized to use available CPU instructions in performance-critical operations.\n",
      "To enable the following instructions: AVX2 FMA, in other operations, rebuild TensorFlow with the appropriate compiler flags.\n"
     ]
    },
    {
     "name": "stdout",
     "output_type": "stream",
     "text": [
      "[]\n"
     ]
    },
    {
     "name": "stderr",
     "output_type": "stream",
     "text": [
      "2025-07-16 05:31:06.003881: E external/local_xla/xla/stream_executor/cuda/cuda_platform.cc:51] failed call to cuInit: INTERNAL: CUDA error: Failed call to cuInit: UNKNOWN ERROR (303)\n",
      "2025-07-16 05:31:06.003905: I external/local_xla/xla/stream_executor/cuda/cuda_diagnostics.cc:178] verbose logging is disabled. Rerun with verbose logging (usually --v=1 or --vmodule=cuda_diagnostics=1) to get more diagnostic output from this module\n",
      "2025-07-16 05:31:06.003910: I external/local_xla/xla/stream_executor/cuda/cuda_diagnostics.cc:183] retrieving CUDA diagnostic information for host: pappu-asus-tuf-gaming\n",
      "2025-07-16 05:31:06.003912: I external/local_xla/xla/stream_executor/cuda/cuda_diagnostics.cc:190] hostname: pappu-asus-tuf-gaming\n",
      "2025-07-16 05:31:06.003987: I external/local_xla/xla/stream_executor/cuda/cuda_diagnostics.cc:197] libcuda reported version is: NOT_FOUND: was unable to find libcuda.so DSO loaded into this program. The library may be missing or provided via another object.\n",
      "2025-07-16 05:31:06.004009: I external/local_xla/xla/stream_executor/cuda/cuda_diagnostics.cc:201] kernel reported version is: 570.133.7\n"
     ]
    }
   ],
   "source": [
    "import pandas as pd\n",
    "import numpy as np\n",
    "import tensorflow as tf\n",
    "from tensorflow.keras.preprocessing.text import Tokenizer\n",
    "from tensorflow.keras.preprocessing.sequence import pad_sequences\n",
    "from tensorflow.keras.models import load_model\n",
    "from tensorflow.keras.layers import Embedding, Bidirectional, LSTM, GRU, Dense, Dropout\n",
    "from sklearn.model_selection import train_test_split\n",
    "from sklearn.metrics import classification_report, confusion_matrix, f1_score\n",
    "import seaborn as sns\n",
    "import matplotlib.pyplot as plt\n",
    "import os\n",
    "print(tf.config.list_physical_devices('GPU'))"
   ]
  },
  {
   "cell_type": "markdown",
   "id": "029c3743",
   "metadata": {},
   "source": [
    "# Data Loading & Preprocessing\n",
    "\n",
    "- Loads the email dataset (`spam_email_format.csv`) and prepares the data for modeling.\n",
    "- Converts spam/ham labels to numbers, combines subject and message into one text column.\n",
    "- Tokenizes and pads the text so it can be used as neural network input.\n",
    "- Splits the data into training and testing sets for evaluation."
   ]
  },
  {
   "cell_type": "code",
   "execution_count": 2,
   "id": "03f3de81",
   "metadata": {},
   "outputs": [],
   "source": [
    "df = pd.read_csv('spam_email_format.csv')\n",
    "df['label'] = df['label'].map({'spam': 1, 'ham': 0})\n",
    "df['text'] = df['subject'].fillna('') + ' ' + df['message'].fillna('')\n",
    "\n",
    "tokenizer = Tokenizer(num_words=5000, oov_token='<OOV>')\n",
    "tokenizer.fit_on_texts(df['text'])\n",
    "maxlen = 50\n",
    "X = pad_sequences(tokenizer.texts_to_sequences(df['text']), maxlen=maxlen, padding='post')\n",
    "y = df['label'].values\n",
    "\n",
    "X_train, X_test, y_train, y_test = train_test_split(X, y, stratify=y, test_size=0.2, random_state=42)\n"
   ]
  },
  {
   "cell_type": "markdown",
   "id": "32ff0dae",
   "metadata": {},
   "source": [
    "# Build & Train the Deep Learning Model\n",
    "\n",
    "- Defines a sequential neural network with:\n",
    "  - **Embedding layer:** Turns words into vector representations.\n",
    "  - **Bidirectional LSTM and GRU layers:** Capture complex patterns in both directions of the email text.\n",
    "  - **Dropout layers:** Reduce overfitting for better generalization.\n",
    "  - **Dense layers:** Final decision layers for classification.\n",
    "- Compiles the model with binary cross-entropy loss and Adam optimizer.\n",
    "- Trains the model on the training set for 3 epochs."
   ]
  },
  {
   "cell_type": "code",
   "execution_count": 3,
   "id": "bd40c850",
   "metadata": {},
   "outputs": [
    {
     "name": "stdout",
     "output_type": "stream",
     "text": [
      "Epoch 1/3\n",
      "\u001b[1m126/126\u001b[0m \u001b[32m━━━━━━━━━━━━━━━━━━━━\u001b[0m\u001b[37m\u001b[0m \u001b[1m12s\u001b[0m 20ms/step - accuracy: 0.8865 - loss: 0.3724 - val_accuracy: 0.9798 - val_loss: 0.0739\n",
      "Epoch 2/3\n",
      "\u001b[1m126/126\u001b[0m \u001b[32m━━━━━━━━━━━━━━━━━━━━\u001b[0m\u001b[37m\u001b[0m \u001b[1m2s\u001b[0m 16ms/step - accuracy: 0.9886 - loss: 0.0525 - val_accuracy: 0.9865 - val_loss: 0.0453\n",
      "Epoch 3/3\n",
      "\u001b[1m126/126\u001b[0m \u001b[32m━━━━━━━━━━━━━━━━━━━━\u001b[0m\u001b[37m\u001b[0m \u001b[1m2s\u001b[0m 16ms/step - accuracy: 0.9948 - loss: 0.0243 - val_accuracy: 0.9888 - val_loss: 0.0516\n"
     ]
    }
   ],
   "source": [
    "model = tf.keras.Sequential([\n",
    "    Embedding(5000, 64),\n",
    "    Bidirectional(LSTM(32, return_sequences=True)),\n",
    "    Dropout(0.3),\n",
    "    Bidirectional(GRU(16)),\n",
    "    Dense(32, activation='relu'),\n",
    "    Dropout(0.3),\n",
    "    Dense(1, activation='sigmoid')\n",
    "])\n",
    "model.compile(loss='binary_crossentropy', optimizer='adam', metrics=['accuracy'])\n",
    "history = model.fit(X_train, y_train, epochs=3, batch_size=32, validation_split=0.1)\n"
   ]
  },
  {
   "cell_type": "markdown",
   "id": "def50141",
   "metadata": {},
   "source": [
    "# Evaluate Model Performance\n",
    "\n",
    "- Makes predictions on the test set.\n",
    "- Prints a classification report with precision, recall, F1-score for spam and ham.\n",
    "- Shows the overall F1-score.\n",
    "- Plots a confusion matrix heatmap to visualize correct and incorrect predictions."
   ]
  },
  {
   "cell_type": "code",
   "execution_count": 4,
   "id": "aca5638a",
   "metadata": {},
   "outputs": [
    {
     "name": "stdout",
     "output_type": "stream",
     "text": [
      "\u001b[1m35/35\u001b[0m \u001b[32m━━━━━━━━━━━━━━━━━━━━\u001b[0m\u001b[37m\u001b[0m \u001b[1m2s\u001b[0m 32ms/step\n",
      "              precision    recall  f1-score   support\n",
      "\n",
      "           0      0.989     0.997     0.993       966\n",
      "           1      0.979     0.926     0.952       149\n",
      "\n",
      "    accuracy                          0.987      1115\n",
      "   macro avg      0.984     0.962     0.972      1115\n",
      "weighted avg      0.987     0.987     0.987      1115\n",
      "\n",
      "F1-Score: 0.9517241379310345\n"
     ]
    },
    {
     "data": {
      "image/png": "[encoded data removed]",
      "text/plain": [
       "<Figure size 640x480 with 2 Axes>"
      ]
     },
     "metadata": {},
     "output_type": "display_data"
    }
   ],
   "source": [
    "y_pred = (model.predict(X_test) > 0.5).astype(int).flatten()\n",
    "print(classification_report(y_test, y_pred, digits=3))\n",
    "print('F1-Score:', f1_score(y_test, y_pred, average='binary'))\n",
    "cm = confusion_matrix(y_test, y_pred)\n",
    "sns.heatmap(cm, annot=True, fmt='d', cmap='Blues', xticklabels=['ham', 'spam'], yticklabels=['ham', 'spam'])\n",
    "plt.xlabel('Predicted')\n",
    "plt.ylabel('Actual')\n",
    "plt.show()\n"
   ]
  },
  {
   "cell_type": "markdown",
   "id": "518bcc3a",
   "metadata": {},
   "source": [
    "# Save and Reload the Model\n",
    "\n",
    "- Saves the trained model to a file (`spam_lstm_model.h5`) so you can reuse it later without retraining.\n",
    "- Shows how to reload the model from disk for prediction or further training."
   ]
  },
  {
   "cell_type": "code",
   "execution_count": 5,
   "id": "30f0e3b4",
   "metadata": {},
   "outputs": [
    {
     "name": "stdout",
     "output_type": "stream",
     "text": [
      "Model saved as spam_lstm_model.keras\n"
     ]
    }
   ],
   "source": [
    "model.save('spam_lstm_model.keras')\n",
    "print('Model saved as spam_lstm_model.keras')\n",
    "# To reload:\n",
    "# model = load_model('spam_lstm_model.keras')\n",
    "# print('Model loaded!')"
   ]
  },
  {
   "cell_type": "markdown",
   "id": "aa24ea30",
   "metadata": {},
   "source": [
    "# Input Cleaning Function\n",
    "\n",
    "- Ensures that text inputs (like subject or message) are valid strings.\n",
    "- Returns an empty string if the input is missing, not a string, or just whitespace.\n",
    "- Helps prevent errors during tokenization and prediction."
   ]
  },
  {
   "cell_type": "code",
   "execution_count": 6,
   "id": "9299323d",
   "metadata": {},
   "outputs": [],
   "source": [
    "def clean_input(text):\n",
    "    if not isinstance(text, str):\n",
    "        return ''\n",
    "    return text.strip() if text.strip() else ''\n"
   ]
  },
  {
   "cell_type": "markdown",
   "id": "61b92628",
   "metadata": {},
   "source": [
    "# Prediction and Self-Learning Functions\n",
    "\n",
    "- **predict_email:**  \n",
    "    - Takes an email subject and message, cleans the input, tokenizes and pads it, then predicts whether it’s spam or ham using the trained model.\n",
    "    - Returns both the predicted label and its probability score.\n",
    "\n",
    "- **self_learn:**  \n",
    "    - Lets you add new (or corrected) examples to the training set on the fly.\n",
    "    - Retrains the model briefly on the updated data, allowing it to learn from feedback and improve continuously."
   ]
  },
  {
   "cell_type": "code",
   "execution_count": 7,
   "id": "14abc983",
   "metadata": {},
   "outputs": [],
   "source": [
    "def predict_email(subject, message):\n",
    "    subject = clean_input(subject)\n",
    "    message = clean_input(message)\n",
    "    if not subject and not message:\n",
    "        return 'Invalid input: Both subject and message are empty.', 0.0\n",
    "    text = subject + ' ' + message\n",
    "    seq = tokenizer.texts_to_sequences([text])\n",
    "    pad = pad_sequences(seq, maxlen=maxlen, padding='post')\n",
    "    pred = model.predict(pad, verbose=0)[0][0]\n",
    "    return ('spam' if pred > 0.5 else 'ham'), float(pred)\n",
    "\n",
    "def self_learn(subject, message, label):\n",
    "    text = clean_input(subject) + ' ' + clean_input(message)\n",
    "    seq = tokenizer.texts_to_sequences([text])\n",
    "    pad = pad_sequences(seq, maxlen=maxlen, padding='post')\n",
    "    global X_train, y_train\n",
    "    X_train = np.concatenate([X_train, pad])\n",
    "    y_train = np.concatenate([y_train, [1 if label == 'spam' else 0]])\n",
    "    model.fit(X_train, y_train, epochs=1, batch_size=32, validation_split=0.1, verbose=0)\n",
    "    print('Model updated with new feedback!')\n"
   ]
  },
  {
   "cell_type": "markdown",
   "id": "f6029d38",
   "metadata": {},
   "source": [
    "# Interactive Self-Learning Feedback Loop\n",
    "\n",
    "- Lets you test the spam detector with your own email subjects and messages, directly in the notebook.\n",
    "- If the model prediction is wrong, you can provide the correct label (\"spam\" or \"ham\").\n",
    "- The model instantly updates and retrains with your feedback, making it smarter over time.\n",
    "- Type `'quit'` as the subject to exit the loop."
   ]
  },
  {
   "cell_type": "code",
   "execution_count": null,
   "id": "2842d598",
   "metadata": {},
   "outputs": [],
   "source": "# Interactive Self-Learning Feedback Loop (commented out for batch execution)\n# Uncomment the code below to run interactively in Jupyter\n\n# while True:\n#     subject = input(\"Enter email subject (or 'quit'): \")\n#     if subject.lower() == 'quit':\n#         break\n#     message = input('Enter email message: ')\n#     pred, score = predict_email(subject, message)\n#     print(f'Prediction: {pred} (score={score:.2f})')\n#     feedback = input('Is this correct? (y/n): ')\n#     if feedback.lower() == 'n':\n#         label = input(\"Enter correct label ('spam' or 'ham'): \")\n#         self_learn(subject, message, label)\n#         print('Model updated with your feedback!')\n#     print('-' * 40)\n\n# Demo: Test the prediction function instead\nprint(\"Demo: Testing prediction function...\")\ntest_subject = \"CONGRATULATIONS! You've won $1000000!\"\ntest_message = \"Click here now to claim your prize! Limited time offer!\"\npred, score = predict_email(test_subject, test_message)\nprint(f'Test Email: \"{test_subject}\"')\nprint(f'Prediction: {pred} (score={score:.2f})')\nprint('-' * 40)"
  },
  {
   "cell_type": "markdown",
   "id": "c9ec25b3-63c8-402c-8afa-4738a776896a",
   "metadata": {},
   "source": [
    "## Advanced Model Saving and Loading: Technical Rationale\n",
    "\n",
    "Persisting a trained model is critical in machine learning workflows for several reasons:\n",
    "\n",
    "- **Reproducibility and Auditability:**  \n",
    "  By serializing model weights and architecture (e.g., `.h5` for Keras models), you ensure that results can be exactly reproduced or audited. This is a fundamental requirement in both research and regulated industry settings.\n",
    "\n",
    "- **Decoupling Training and Inference:**  \n",
    "  Training deep neural networks can be resource-intensive and time-consuming, often requiring specialized hardware (like GPUs). By saving the model, inference (prediction) can be performed later and anywhere—on servers, in cloud deployments, or even on edge devices—without retraining.\n",
    "\n",
    "- **Cross-platform and Multi-language Use:**  \n",
    "  Saved models can be loaded in other programming environments that support the same serialization format, enabling interoperability and integration with external systems or APIs (e.g., deploying a TensorFlow/Keras model in a Flask or FastAPI service, or even converting it to TensorFlow Lite for mobile use).\n",
    "\n",
    "- **Experiment Management:**  \n",
    "  Storing multiple model checkpoints enables rollback, ablation studies, ensemble learning, and tracking of model drift over time. Modern ML workflows (e.g., MLOps) depend on systematic checkpointing and versioning for robust experimentation and deployment.\n",
    "\n",
    "- **Security and Integrity:**  \n",
    "  Models can be signed or encrypted to ensure integrity, prevent tampering, and comply with organizational security policies.\n",
    "\n",
    "**Technical Note:**  \n",
    "For advanced production systems, consider saving not only the model weights but also the entire preprocessing pipeline (e.g., tokenizer, label encoder, scaling) using joblib or custom serialization, to guarantee the exact transformation chain for incoming data during inference."
   ]
  },
  {
   "cell_type": "markdown",
   "id": "350c5909-8950-4a81-889f-6417eee13add",
   "metadata": {},
   "source": [
    "## Data Privacy, Security, and Future Research Directions\n",
    "\n",
    "### **Data Privacy and Security**\n",
    "\n",
    "- **Regulatory Compliance:**  \n",
    "  In production-grade spam filtering systems, handling user email content implicates privacy regulations such as the EU’s GDPR, California's CCPA, or India’s DPDP Act. Models and datasets must be managed in a way that ensures:\n",
    "  - Anonymization or pseudonymization of sensitive fields.\n",
    "  - Transparent consent for data usage.\n",
    "  - Secure data transmission (e.g., SSL/TLS) and storage (e.g., encryption at rest).\n",
    "\n",
    "- **Federated and On-device Learning:**  \n",
    "  For high-privacy scenarios, consider federated learning or on-device learning approaches. These enable model training and improvement directly on user devices, without raw data ever leaving the user’s control, reducing privacy risks and legal exposure.\n",
    "\n",
    "### **Possible Future Improvements**\n",
    "\n",
    "- **Advanced NLP Models:**  \n",
    "  Transformer-based models (BERT, RoBERTa, DistilBERT, or even LLMs) offer significant improvements in text understanding, context awareness, and generalization for spam detection. Techniques like transfer learning and domain adaptation can further improve performance on limited or highly domain-specific data.\n",
    "\n",
    "- **Handling Data Imbalance:**  \n",
    "  Spam datasets are often highly imbalanced (few spam, many ham, or vice versa). Methods such as SMOTE, class weighting, or ensemble methods can help mitigate bias toward the majority class, increasing recall for rare but important categories (like phishing spam).\n",
    "\n",
    "- **Active and Online Learning:**  \n",
    "  In dynamic environments, spam strategies constantly evolve. Implementing active learning (where the model selectively queries for labels) or true online learning algorithms can help maintain model effectiveness with less labeled data and better adaptation to novel spam tactics.\n",
    "\n",
    "- **Explainability and Trust:**  \n",
    "  Adding explainability (e.g., LIME, SHAP, attention heatmaps) helps users and developers understand why a message was classified as spam or ham—critical for user trust and regulatory explainability requirements.\n",
    "\n",
    "- **Security Against Adversarial Attacks:**  \n",
    "  Email spam filters are frequent targets of adversarial manipulation. Future systems should include adversarial training, input validation, and regular audits for model robustness.\n",
    "\n",
    "---\n",
    "\n",
    "### **Summary Table**\n",
    "\n",
    "| Challenge                  | Advanced Solution                                 |\n",
    "|----------------------------|---------------------------------------------------|\n",
    "| Data Privacy               | Encryption, anonymization, federated learning     |\n",
    "| Model Drift                | Active/online learning, regular re-training       |\n",
    "| Data Imbalance             | SMOTE, class weighting, ensemble models           |\n",
    "| Explainability             | LIME, SHAP, attention mechanisms                  |\n",
    "| Adversarial Attacks        | Robustness testing, adversarial training          |\n",
    "| Deployment                 | Model serialization, pipeline versioning, MLOps   |\n",
    "\n",
    "---\n",
    "\n",
    "### **References**\n",
    "\n",
    "- Vaswani et al., “Attention Is All You Need” (2017) [Transformers]\n",
    "- Devlin et al., “BERT: Pre-training of Deep Bidirectional Transformers for Language Understanding” (2018)\n",
    "- GDPR, CCPA, DPDP (official docs)\n",
    "- Caruana & Niculescu-Mizil, “An Empirical Comparison of Supervised Learning Algorithms” (2006)\n",
    "\n",
    "---\n",
    "\n",
    "*These considerations are critical for building state-of-the-art, production-ready spam detection systems in 2025 and beyond.*"
   ]
  }
 ],
 "metadata": {
  "kernelspec": {
   "display_name": "Spam LSTM (venv)",
   "language": "python",
   "name": "spam-lstm-venv"
  },
  "language_info": {
   "codemirror_mode": {
    "name": "ipython",
    "version": 3
   },
   "file_extension": ".py",
   "mimetype": "text/x-python",
   "name": "python",
   "nbconvert_exporter": "python",
   "pygments_lexer": "ipython3",
   "version": "3.12.3"
  }
 },
 "nbformat": 4,
 "nbformat_minor": 5
}